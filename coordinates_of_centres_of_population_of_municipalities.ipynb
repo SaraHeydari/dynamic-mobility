{
 "cells": [
  {
   "cell_type": "code",
   "execution_count": 1,
   "metadata": {},
   "outputs": [],
   "source": [
    "def weighted_average(value_list, weight_list):\n",
    "    result = sum([value_list[i]*weight_list[i] for i in range(len(value_list))])/sum(weight_list)\n",
    "    return result"
   ]
  },
  {
   "cell_type": "code",
   "execution_count": 2,
   "metadata": {},
   "outputs": [],
   "source": [
    "# To Do: ommit retrning municipality_pop_book"
   ]
  },
  {
   "cell_type": "code",
   "execution_count": 3,
   "metadata": {},
   "outputs": [],
   "source": [
    "def read_population_data_and_sum_in_municipality_level(datapath, separator, text_encoding_format, number_of_coloumns, measure_coloumn):\n",
    "    ### aim: read the zipcode level data downloaded from statistics Finalnd and return population and average coordinate of each municipality \n",
    "    #data heading is: \n",
    "    #\"Postal code area\",\"X coordinate in metres\",\"Y coordinate in metres\",\"Surface area\",\"Inhabitants, total, 2018 (HE)\",\"Males, 2018 (HE)\",\"Females, 2018 (HE)\",\"Average age of inhabitants, 2018 (HE)\",\"0-2 years, 2018 (HE)\",\"3-6 years, 2018 (HE)\",\"7-12 years, 2018 (HE)\",\"13-15 years, 2018 (HE)\",\"16-17 years, 2018 (HE)\",\"18-19 years, 2018 (HE)\",\"20-24 years, 2018 (HE)\",\"25-29 years, 2018 (HE)\",\"30-34 years, 2018 (HE)\",\"35-39 years, 2018 (HE)\",\"40-44 years, 2018 (HE)\",\"45-49 years, 2018 (HE)\",\"50-54 years, 2018 (HE)\",\"55-59 years, 2018 (HE)\",\"60-64 years, 2018 (HE)\",\"65-69 years, 2018 (HE)\",\"70-74 years, 2018 (HE)\",\"75-79 years, 2018 (HE)\",\"80-84 years, 2018 (HE)\",\"85 years or over, 2018 (HE)\",\"Aged 18 or over, total, 2018 (KO)\"\n",
    "    #an example line from data:\n",
    "    #00130 Kaartinkaupunki (Helsinki),386244,6671474,428960,1523,735,788,41,41,47,63,29,24,26,98,160,139,122,116,103,120,101,79,79,88,47,26,15,1319\n",
    "    line_counter = 0\n",
    "    municipality_info_book = {}\n",
    "    municipality_pop_book = {}\n",
    "    municipality_coordinates_book = {}\n",
    "    with open(data_path, 'r', encoding=text_encoding_format) as data:\n",
    "        for line in data:\n",
    "            line_counter += 1\n",
    "            if line_counter > 4:\n",
    "                fields = line.strip().split(separator)\n",
    "                if len(fields) == number_of_coloumns:\n",
    "                    area_name_string = fields[0]\n",
    "                    municipality = area_name_string.strip().split(' ')[-1]\n",
    "                    x_coordinate = int(fields[1])\n",
    "                    y_coordinate = int(fields[2])\n",
    "                    population = int(fields[measure_coloumn])\n",
    "                    if municipality not in municipality_info_book.keys():\n",
    "                        municipality_info_book[municipality] = []\n",
    "                    municipality_info_book[municipality].append((population, x_coordinate, y_coordinate))\n",
    " \n",
    "        for municipality in municipality_info_book.keys():\n",
    "            #calculate the population sum in each municipality an coordinates of population center (weighted average of \n",
    "            pop_list, x_list, y_list = zip(*municipality_info_book[municipality])\n",
    "            pop_sum = sum(pop_list)\n",
    "            x_avg = weighted_average(x_list, pop_list)\n",
    "            y_avg = weighted_average(y_list, pop_list)\n",
    "            municipality_pop_book[municipality] = pop_sum\n",
    "            municipality_coordinates_book[municipality] = (x_avg, y_avg)        \n",
    "    return municipality_pop_book, municipality_coordinates_book"
   ]
  },
  {
   "cell_type": "code",
   "execution_count": 4,
   "metadata": {},
   "outputs": [],
   "source": [
    "### Reading the data and extracting poulation to calculate the center of population of each municipality\n",
    "#data_path = \"/m/cs/scratch/networks/heydars1/population_flow/data/population_data/population_2017_cleaned.csv\"\n",
    "data_path = \"./data/population_data/population_2017_cleaned.csv\"\n",
    "## this function can be used to extrct population and coordinates info for \"municipalities\". In that case, population is sum of all the zipcode regions in the municipality and x ant y coordinate are coordinates of center of population of the municipality (weighted average)\n",
    "_ , coordinates_book = read_population_data_and_sum_in_municipality_level(data_path, ';', 'iso-8859-1', 5, 3) #notice that in the population data there is a municipality named \"Valtimo\" which can not be found in communting data      "
   ]
  },
  {
   "cell_type": "code",
   "execution_count": 5,
   "metadata": {},
   "outputs": [
    {
     "data": {
      "text/plain": [
       "310"
      ]
     },
     "execution_count": 5,
     "metadata": {},
     "output_type": "execute_result"
    }
   ],
   "source": [
    "len(coordinates_book)"
   ]
  },
  {
   "cell_type": "code",
   "execution_count": 6,
   "metadata": {},
   "outputs": [],
   "source": [
    "import pickle\n",
    "path_for_saving_population_centres_coordinates = \"./data/population_data/centre_of_populations_of_municiplaities.pkl\"\n",
    "pickle.dump(coordinates_book, open(path_for_saving_population_centres_coordinates , \"wb\"))"
   ]
  },
  {
   "cell_type": "markdown",
   "metadata": {},
   "source": [
    "----"
   ]
  },
  {
   "cell_type": "code",
   "execution_count": 13,
   "metadata": {},
   "outputs": [],
   "source": [
    "import os\n",
    "import geopandas as gpd"
   ]
  },
  {
   "cell_type": "code",
   "execution_count": 9,
   "metadata": {},
   "outputs": [],
   "source": [
    "dir_path = os.path.abspath('')\n",
    "data_path = os.path.join(dir_path, 'data')"
   ]
  },
  {
   "cell_type": "code",
   "execution_count": 14,
   "metadata": {},
   "outputs": [],
   "source": [
    "def read_commutters_data(data_path, text_encoding_format, number_of_header_lines,\n",
    "                        number_of_coloumns, measure_coloumn):\n",
    "    measure_book = {}\n",
    "    line_counter = 0\n",
    "    aland_set = {'Brändö','Eckerö','Finström','Föglö','Geta','Hammarland','Jomala','Kumlinge','Kökar','Lemland','Lumparland','Maarianhamina - Mariehamn','Mariehamn','Saltvik','Sottunga','Sund','Vårdö'}\n",
    "    with open(data_path, 'r', encoding=text_encoding_format) as data:\n",
    "        for line in data:\n",
    "            line_counter += 1\n",
    "            if line_counter > number_of_header_lines:\n",
    "                fields = line.strip().split(';')\n",
    "                assert len(fields) == number_of_coloumns\n",
    "                city = fields[0]\n",
    "                if city not in aland_set:\n",
    "                    measure = int(fields[measure_coloumn])\n",
    "                    measure_book[city] = measure\n",
    "    return measure_book"
   ]
  },
  {
   "cell_type": "code",
   "execution_count": 15,
   "metadata": {},
   "outputs": [],
   "source": [
    "tessellation = gpd.read_file('./data/finland-municipalities-topojson.geojson').rename(columns={'id': 'tile_ID'})\n",
    "\n",
    "dict_change_name = {\n",
    "    'Inkoo':'Ingå',\n",
    "    'Koski Tl':'Koski_Tl',\n",
    "    'Kristiinankaupunki':'Kristinestad',\n",
    "    'Kruunupyy':'Kronoby',\n",
    "    'Luoto':'Larsmo',\n",
    "    'Maalahti':'Malax',\n",
    "    'Maarianhamina':'Mariehamn',\n",
    "    'Mustasaari':'Korsholm',\n",
    "    'Närpiö':'Närpes',\n",
    "    'Pietarsaari':'Jakobstad',\n",
    "    'Pedersören kunta':'Pedersöre',\n",
    "    'Uusikaarlepyy':'Nykarleby',\n",
    "    'Kemiönsaari':'Kimitoön',\n",
    "    'Parainen':'Pargas'\n",
    "}\n",
    "\n",
    "tessellation['name'].replace(dict_change_name, inplace=True)\n",
    "\n",
    "# epsg:3067 ETRS89 / TM35FIN(E,N)\n",
    "muni_pcrs = tessellation.to_crs(3067)\n",
    "muni_pcrs['centroid'] = muni_pcrs.geometry.centroid"
   ]
  },
  {
   "cell_type": "code",
   "execution_count": 16,
   "metadata": {},
   "outputs": [
    {
     "name": "stdout",
     "output_type": "stream",
     "text": [
      "310\n",
      "295\n"
     ]
    }
   ],
   "source": [
    "### Reading the data on center of population of each municipality\n",
    "coordinates_book = pickle.load( open( dir_path + \"/data/population_data/centre_of_populations_of_municiplaities.pkl\", \"rb\" ) )\n",
    "print(len(coordinates_book))\n",
    "aland_set = {'Brändö','Eckerö','Finström','Föglö','Geta','Hammarland','Jomala','Kumlinge','Kökar','Lemland','Lumparland','Maarianhamina - Mariehamn','Mariehamn','Saltvik','Sottunga','Sund','Vårdö'}\n",
    "entries_to_remove = aland_set\n",
    "for m in entries_to_remove:\n",
    "    coordinates_book.pop(m, None)\n",
    "    \n",
    "coordinates_book['Valtimo'] = muni_pcrs[muni_pcrs['name'] == 'Valtimo'].centroid.geometry.values[0].coords[0]\n",
    "print(len(coordinates_book))"
   ]
  },
  {
   "cell_type": "code",
   "execution_count": 17,
   "metadata": {},
   "outputs": [],
   "source": [
    "path_for_saving_population_centres_coordinates = \"./data/population_data/centre_of_populations_of_municiplaities.pkl\"\n",
    "pickle.dump(coordinates_book, open(path_for_saving_population_centres_coordinates , \"wb\"))"
   ]
  },
  {
   "cell_type": "code",
   "execution_count": null,
   "metadata": {},
   "outputs": [],
   "source": []
  }
 ],
 "metadata": {
  "kernelspec": {
   "display_name": "Python 3/anaconda",
   "language": "python",
   "name": "python3"
  },
  "language_info": {
   "codemirror_mode": {
    "name": "ipython",
    "version": 3
   },
   "file_extension": ".py",
   "mimetype": "text/x-python",
   "name": "python",
   "nbconvert_exporter": "python",
   "pygments_lexer": "ipython3",
   "version": "3.8.10"
  }
 },
 "nbformat": 4,
 "nbformat_minor": 4
}
