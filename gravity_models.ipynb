{
 "cells": [
  {
   "cell_type": "code",
   "execution_count": 1,
   "metadata": {},
   "outputs": [],
   "source": [
    "import geopandas as gpd\n",
    "import pandas as pd\n",
    "import numpy as np\n",
    "\n",
    "import matplotlib.pyplot as plt\n",
    "%matplotlib inline"
   ]
  },
  {
   "cell_type": "markdown",
   "metadata": {},
   "source": [
    "----\n",
    "### load datasets"
   ]
  },
  {
   "cell_type": "code",
   "execution_count": 2,
   "metadata": {},
   "outputs": [],
   "source": [
    "def weighted_average(value_list, weight_list):\n",
    "    result = sum([value_list[i]*weight_list[i] for i in range(len(value_list))])/sum(weight_list)\n",
    "    return result\n",
    "\n",
    "def read_population_data_and_sum_in_municipality_level(datapath, separator, text_encoding_format, number_of_coloumns, measure_coloumn):\n",
    "    ### aim: read the zipcode level data downloaded from statistics Finalnd and return population and average coordinate of each municipality \n",
    "    #data heading is: \n",
    "#\"Postal code area\",\"X coordinate in metres\",\"Y coordinate in metres\",\"Surface area\",\"Inhabitants, total, 2018 (HE)\",\"Males, 2018 (HE)\",\"Females, 2018 (HE)\",\"Average age of inhabitants, 2018 (HE)\",\"0-2 years, 2018 (HE)\",\"3-6 years, 2018 (HE)\",\"7-12 years, 2018 (HE)\",\"13-15 years, 2018 (HE)\",\"16-17 years, 2018 (HE)\",\"18-19 years, 2018 (HE)\",\"20-24 years, 2018 (HE)\",\"25-29 years, 2018 (HE)\",\"30-34 years, 2018 (HE)\",\"35-39 years, 2018 (HE)\",\"40-44 years, 2018 (HE)\",\"45-49 years, 2018 (HE)\",\"50-54 years, 2018 (HE)\",\"55-59 years, 2018 (HE)\",\"60-64 years, 2018 (HE)\",\"65-69 years, 2018 (HE)\",\"70-74 years, 2018 (HE)\",\"75-79 years, 2018 (HE)\",\"80-84 years, 2018 (HE)\",\"85 years or over, 2018 (HE)\",\"Aged 18 or over, total, 2018 (KO)\"\n",
    "    #an example line from data:\n",
    "    #00130 Kaartinkaupunki (Helsinki),386244,6671474,428960,1523,735,788,41,41,47,63,29,24,26,98,160,139,122,116,103,120,101,79,79,88,47,26,15,1319\n",
    "    line_counter = 0\n",
    "    municipality_info_book = {}\n",
    "    municipality_pop_book = {}\n",
    "    municipality_coordinates_book = {}\n",
    "    with open(data_path, 'r', encoding=text_encoding_format) as data:\n",
    "        for line in data:\n",
    "            line_counter += 1\n",
    "            if line_counter > 4:\n",
    "                fields = line.strip().split(separator)\n",
    "                if len(fields) == number_of_coloumns:\n",
    "                    area_name_string = fields[0]\n",
    "                    municipality = area_name_string.strip().split(' ')[-1]\n",
    "                    x_coordinate = int(fields[1])\n",
    "                    y_coordinate = int(fields[2])\n",
    "                    population = int(fields[measure_coloumn])\n",
    "                    if municipality not in municipality_info_book.keys():\n",
    "                        municipality_info_book[municipality] = []\n",
    "                    municipality_info_book[municipality].append((population, x_coordinate, y_coordinate))\n",
    "                #from IPython.core.debugger import Pdb\n",
    "                #Pdb().set_trace()  \n",
    "        for municipality in municipality_info_book.keys():\n",
    "            #calculate the population sum in each municipality an coordinates of population center (weighted average of \n",
    "            pop_list, x_list, y_list = zip(*municipality_info_book[municipality])\n",
    "            pop_sum = sum(pop_list)\n",
    "            x_avg = weighted_average(x_list, pop_list)\n",
    "            y_avg = weighted_average(y_list, pop_list)\n",
    "            municipality_pop_book[municipality] = pop_sum\n",
    "            municipality_coordinates_book[municipality] = (x_avg, y_avg)        \n",
    "    return municipality_pop_book, municipality_coordinates_book\n",
    "\n",
    "\n",
    "def read_commutters_data(data_path, text_encoding_format, number_of_header_lines,\n",
    "                        number_of_coloumns, measure_coloumn):\n",
    "    measure_book = {}\n",
    "    line_counter = 0\n",
    "    with open(data_path, 'r', encoding=text_encoding_format) as data:\n",
    "        for line in data:\n",
    "            line_counter += 1\n",
    "            if line_counter > number_of_header_lines:\n",
    "                #from IPython.core.debugger import Pdb\n",
    "                #Pdb().set_trace()\n",
    "                fields = line.strip().split(';')\n",
    "                assert len(fields) == number_of_coloumns\n",
    "                city = fields[0]\n",
    "                measure = int(fields[measure_coloumn])\n",
    "                measure_book[city] = measure\n",
    "    return measure_book"
   ]
  },
  {
   "cell_type": "code",
   "execution_count": 3,
   "metadata": {},
   "outputs": [],
   "source": [
    "### Reading the data and extracting poulation to calculate the center of population of each municipality\n",
    "data_path = \"./data/population_data/population_2017_cleaned.csv\"\n",
    "## this function can be used to extrct population and coordinates info for \"municipalities\". In that case, population is sum of all the zipcode regions in the municipality and x ant y coordinate are coordinates of center of population of the municipality (weighted average)\n",
    "dict_muni_pop, coordinates_book = read_population_data_and_sum_in_municipality_level(data_path, ';', 'iso-8859-1', 5, 3) #notice that in the population data there is a municipality named \"Valtimo\" which can not be found in communting data "
   ]
  },
  {
   "cell_type": "code",
   "execution_count": 4,
   "metadata": {},
   "outputs": [],
   "source": [
    "### Reading the data from statistics Finland on number of out-commuters of each municipality, \"ni+\" in Lasse's notation\n",
    "out_commutters_data_path = \"./data/population_data/out_degree_cleaned.csv\"\n",
    "out_commuters_book = read_commutters_data(out_commutters_data_path, 'iso-8859-1', 4, 12, 3)\n",
    "\n",
    "### Reading the data from statistics Finland on total number of workers living in each municipality, \"ni:\" in Lasse's notation\n",
    "num_workers_by_home_municipality_data_path = \"./data/population_data/num_employed_by_home_municipality_cleaned.csv\"\n",
    "workers_by_home_municipality_book = read_commutters_data(num_workers_by_home_municipality_data_path, 'iso-8859-1', 3, 11, 2)\n",
    "\n",
    "### Reading the data from statistics Finland on total number of jobs located in each municipality, \"n:i\" in Lasse's notation\n",
    "num_jobs_in_each_muncipality_data_path = \"./data/population_data/num_jobs_in_each_municipality_cleaned.csv\"\n",
    "jobs_in_each_municipality_book = read_commutters_data(num_jobs_in_each_muncipality_data_path, 'iso-8859-1', 3, 11, 2)"
   ]
  },
  {
   "cell_type": "code",
   "execution_count": 5,
   "metadata": {},
   "outputs": [],
   "source": [
    "df_muni_pop = pd.DataFrame(dict_muni_pop.items(), columns=['name', 'population'])\n",
    "df_out_commuters_book = pd.DataFrame(out_commuters_book.items(), columns=['name', 'out_degree'])\n",
    "df_workers_by_home_municipality_book = pd.DataFrame(workers_by_home_municipality_book.items(), columns=['name', 'workers'])\n",
    "df_jobs_in_each_municipality_book = pd.DataFrame(jobs_in_each_municipality_book.items(), columns=['name', 'jobs'])"
   ]
  },
  {
   "cell_type": "code",
   "execution_count": 6,
   "metadata": {},
   "outputs": [],
   "source": [
    "df = df_muni_pop.merge(df_out_commuters_book, on='name', how='outer')\n",
    "df = df.merge(df_workers_by_home_municipality_book, on='name', how='outer')\n",
    "df = df.merge(df_jobs_in_each_municipality_book, on='name', how='outer')"
   ]
  },
  {
   "cell_type": "code",
   "execution_count": 7,
   "metadata": {},
   "outputs": [],
   "source": [
    "tessellation = gpd.read_file('./data/finland-municipalities-topojson.geojson').rename(columns={'id': 'tile_ID'})\n",
    "\n",
    "dict_change_name = {\n",
    "    'Inkoo':'Ingå',\n",
    "    'Koski Tl':'Koski_Tl',\n",
    "    'Kristiinankaupunki':'Kristinestad',\n",
    "    'Kruunupyy':'Kronoby',\n",
    "    'Luoto':'Larsmo',\n",
    "    'Maalahti':'Malax',\n",
    "    'Maarianhamina':'Mariehamn',\n",
    "    'Mustasaari':'Korsholm',\n",
    "    'Närpiö':'Närpes',\n",
    "    'Pietarsaari':'Jakobstad',\n",
    "    'Pedersören kunta':'Pedersöre',\n",
    "    'Uusikaarlepyy':'Nykarleby',\n",
    "    'Kemiönsaari':'Kimitoön',\n",
    "    'Parainen':'Pargas'\n",
    "}\n",
    "\n",
    "tessellation['name'].replace(dict_change_name, inplace=True)"
   ]
  },
  {
   "cell_type": "code",
   "execution_count": 8,
   "metadata": {},
   "outputs": [],
   "source": [
    "tessellation = tessellation.merge(df, on='name', how='outer')"
   ]
  },
  {
   "cell_type": "code",
   "execution_count": 9,
   "metadata": {},
   "outputs": [
    {
     "name": "stdout",
     "output_type": "stream",
     "text": [
      "    tile_ID code     name                                           geometry  \\\n",
      "281     911  911  Valtimo  MULTIPOLYGON (((29.11173 63.84641, 29.12750 63...   \n",
      "\n",
      "     population  out_degree  workers  jobs  \n",
      "281         NaN         268      718   585  \n",
      "Empty GeoDataFrame\n",
      "Columns: [tile_ID, code, name, geometry, population, out_degree, workers, jobs]\n",
      "Index: []\n"
     ]
    }
   ],
   "source": [
    "print(tessellation[tessellation['population'].isna()])\n",
    "\n",
    "# https://ugeo.urbistat.com/AdminStat/en/fi/demografia/dati-sintesi/valtimo/20505242/4\n",
    "# fill the population of Valtimo\n",
    "tessellation.fillna(2218, inplace=True)\n",
    "\n",
    "print(tessellation[tessellation['population'].isna()])"
   ]
  },
  {
   "cell_type": "code",
   "execution_count": 10,
   "metadata": {},
   "outputs": [],
   "source": [
    "dict_tile_name = dict(zip(tessellation.tile_ID, tessellation.name))"
   ]
  },
  {
   "cell_type": "code",
   "execution_count": 11,
   "metadata": {},
   "outputs": [
    {
     "name": "stdout",
     "output_type": "stream",
     "text": [
      "Empty GeoDataFrame\n",
      "Columns: [tile_ID, code, name, geometry, population, out_degree, workers, jobs]\n",
      "Index: []\n"
     ]
    }
   ],
   "source": [
    "print(tessellation[tessellation['jobs'].isna()])"
   ]
  },
  {
   "cell_type": "markdown",
   "metadata": {},
   "source": [
    "----\n",
    "### parameter calibration based on the average unit surface"
   ]
  },
  {
   "cell_type": "code",
   "execution_count": 12,
   "metadata": {},
   "outputs": [
    {
     "name": "stdout",
     "output_type": "stream",
     "text": [
      "total area: 336195.870 km2, avg. area: 1081.016 km2\n"
     ]
    }
   ],
   "source": [
    "# epsg:3067 ETRS89 / TM35FIN(E,N)\n",
    "\n",
    "muni_pcrs = tessellation.to_crs(3067)\n",
    "muni_pcrs['centroid'] = muni_pcrs.geometry.centroid\n",
    "muni_pcrs['area'] = muni_pcrs.area / 10**6\n",
    "print('total area: %.3f km2, avg. area: %.3f km2' % (muni_pcrs['area'].sum(), muni_pcrs['area'].mean()))"
   ]
  },
  {
   "cell_type": "code",
   "execution_count": 13,
   "metadata": {},
   "outputs": [],
   "source": [
    "coordinates_book['Valtimo'] = muni_pcrs[muni_pcrs.name == 'Valtimo'].centroid.geometry.values[0].coords[0]"
   ]
  },
  {
   "cell_type": "code",
   "execution_count": 14,
   "metadata": {},
   "outputs": [
    {
     "data": {
      "text/plain": [
       "<AxesSubplot:>"
      ]
     },
     "execution_count": 14,
     "metadata": {},
     "output_type": "execute_result"
    },
    {
     "data": {
      "image/png": "[encoded data removed]",
      "text/plain": [
       "<Figure size 432x288 with 1 Axes>"
      ]
     },
     "metadata": {
      "needs_background": "light"
     },
     "output_type": "display_data"
    }
   ],
   "source": [
    "muni_pcrs.plot()"
   ]
  },
  {
   "cell_type": "code",
   "execution_count": 15,
   "metadata": {},
   "outputs": [
    {
     "data": {
      "text/plain": [
       "0.08531619877853533"
      ]
     },
     "execution_count": 15,
     "metadata": {},
     "output_type": "execute_result"
    }
   ],
   "source": [
    "beta = 0.3 * muni_pcrs['area'].mean() ** -0.18\n",
    "beta"
   ]
  },
  {
   "cell_type": "code",
   "execution_count": 16,
   "metadata": {},
   "outputs": [],
   "source": [
    "def gravity_exp(df, beta):\n",
    "    \n",
    "    def cal_distance(p1, p2):\n",
    "        x1, y1 = coordinates_book[p1]\n",
    "        x2, y2 = coordinates_book[p2]\n",
    "        return np.sqrt((x1 - x2) ** 2 + (y1 - y2) ** 2) / 1000\n",
    "\n",
    "    od = []\n",
    "    \n",
    "    for i in range(len(df)):\n",
    "        for j in range(i + 1, len(df)):\n",
    "            try:\n",
    "                dist = cal_distance(df.iloc[i][2], df.iloc[j][2])\n",
    "            \n",
    "                flow = df.iloc[i].workers * df.iloc[j].jobs * np.exp(-beta * dist)\n",
    "            \n",
    "                od.append([df.iloc[i].code, df.iloc[j].code, flow])\n",
    "                od.append([df.iloc[j].code, df.iloc[i].code, flow])\n",
    "            except:\n",
    "#                 print(df.iloc[i][2], df.iloc[j][2])\n",
    "                continue\n",
    "    return od"
   ]
  },
  {
   "cell_type": "code",
   "execution_count": 17,
   "metadata": {},
   "outputs": [],
   "source": [
    "prob = gravity_exp(muni_pcrs, beta)"
   ]
  },
  {
   "cell_type": "code",
   "execution_count": 18,
   "metadata": {},
   "outputs": [],
   "source": [
    "df_gravity_exp_prob = pd.DataFrame(prob, columns=['origin', 'destination', 'prob'])"
   ]
  },
  {
   "cell_type": "code",
   "execution_count": 19,
   "metadata": {},
   "outputs": [
    {
     "data": {
      "text/plain": [
       "(98715391948.2545, 0.08531619877853533)"
      ]
     },
     "execution_count": 19,
     "metadata": {},
     "output_type": "execute_result"
    }
   ],
   "source": [
    "df_gravity_exp_prob.prob.sum(), beta"
   ]
  },
  {
   "cell_type": "markdown",
   "metadata": {},
   "source": [
    "----\n",
    "# Production constrained, resample according to out-degree"
   ]
  },
  {
   "cell_type": "code",
   "execution_count": 20,
   "metadata": {},
   "outputs": [],
   "source": [
    "import random"
   ]
  },
  {
   "cell_type": "code",
   "execution_count": 21,
   "metadata": {},
   "outputs": [],
   "source": [
    "trips = []\n",
    "\n",
    "for index, row in tessellation.iterrows():\n",
    "    k = row.out_degree\n",
    "    origin = row.tile_ID\n",
    "    \n",
    "    select = df_gravity_exp_prob[df_gravity_exp_prob['origin'] == origin].copy(True)\n",
    "    select['weight'] = select['prob'] / select['prob'].sum()\n",
    "    \n",
    "    trips += list(zip([origin] * k, random.choices(population=select['destination'].tolist(), \n",
    "                                                   weights=select['weight'], \n",
    "                                                   k=k)))"
   ]
  },
  {
   "cell_type": "code",
   "execution_count": 22,
   "metadata": {},
   "outputs": [],
   "source": [
    "df_od = pd.DataFrame(trips, columns=['origin', 'destination']).value_counts(['origin', 'destination']).to_frame('flow').reset_index()"
   ]
  },
  {
   "cell_type": "code",
   "execution_count": 23,
   "metadata": {},
   "outputs": [
    {
     "data": {
      "text/plain": [
       "(805713, 805713)"
      ]
     },
     "execution_count": 23,
     "metadata": {},
     "output_type": "execute_result"
    }
   ],
   "source": [
    "df_od['flow'].sum(), tessellation['out_degree'].sum()"
   ]
  },
  {
   "cell_type": "code",
   "execution_count": 24,
   "metadata": {},
   "outputs": [],
   "source": [
    "df_od['origin'] = df_od['origin'].map(dict_tile_name)\n",
    "df_od['destination'] = df_od['destination'].map(dict_tile_name)"
   ]
  },
  {
   "cell_type": "code",
   "execution_count": 25,
   "metadata": {},
   "outputs": [],
   "source": [
    "df_od.to_csv('results/gravity_model_exp_avg_surface_with_commuter.csv', index=False)"
   ]
  },
  {
   "cell_type": "code",
   "execution_count": 26,
   "metadata": {},
   "outputs": [
    {
     "data": {
      "text/html": [
       "<div>\n",
       "<style scoped>\n",
       "    .dataframe tbody tr th:only-of-type {\n",
       "        vertical-align: middle;\n",
       "    }\n",
       "\n",
       "    .dataframe tbody tr th {\n",
       "        vertical-align: top;\n",
       "    }\n",
       "\n",
       "    .dataframe thead th {\n",
       "        text-align: right;\n",
       "    }\n",
       "</style>\n",
       "<table border=\"1\" class=\"dataframe\">\n",
       "  <thead>\n",
       "    <tr style=\"text-align: right;\">\n",
       "      <th></th>\n",
       "      <th>origin</th>\n",
       "      <th>destination</th>\n",
       "      <th>flow</th>\n",
       "    </tr>\n",
       "  </thead>\n",
       "  <tbody>\n",
       "    <tr>\n",
       "      <th>0</th>\n",
       "      <td>Espoo</td>\n",
       "      <td>Helsinki</td>\n",
       "      <td>52138</td>\n",
       "    </tr>\n",
       "    <tr>\n",
       "      <th>1</th>\n",
       "      <td>Vantaa</td>\n",
       "      <td>Helsinki</td>\n",
       "      <td>43954</td>\n",
       "    </tr>\n",
       "    <tr>\n",
       "      <th>2</th>\n",
       "      <td>Helsinki</td>\n",
       "      <td>Vantaa</td>\n",
       "      <td>32600</td>\n",
       "    </tr>\n",
       "    <tr>\n",
       "      <th>3</th>\n",
       "      <td>Helsinki</td>\n",
       "      <td>Espoo</td>\n",
       "      <td>32252</td>\n",
       "    </tr>\n",
       "    <tr>\n",
       "      <th>4</th>\n",
       "      <td>Espoo</td>\n",
       "      <td>Vantaa</td>\n",
       "      <td>10566</td>\n",
       "    </tr>\n",
       "    <tr>\n",
       "      <th>5</th>\n",
       "      <td>Kaarina</td>\n",
       "      <td>Turku</td>\n",
       "      <td>9011</td>\n",
       "    </tr>\n",
       "    <tr>\n",
       "      <th>6</th>\n",
       "      <td>Vantaa</td>\n",
       "      <td>Espoo</td>\n",
       "      <td>8771</td>\n",
       "    </tr>\n",
       "    <tr>\n",
       "      <th>7</th>\n",
       "      <td>Oulu</td>\n",
       "      <td>Kempele</td>\n",
       "      <td>7758</td>\n",
       "    </tr>\n",
       "    <tr>\n",
       "      <th>8</th>\n",
       "      <td>Kangasala</td>\n",
       "      <td>Tampere</td>\n",
       "      <td>7401</td>\n",
       "    </tr>\n",
       "    <tr>\n",
       "      <th>9</th>\n",
       "      <td>Kuopio</td>\n",
       "      <td>Siilinjärvi</td>\n",
       "      <td>6822</td>\n",
       "    </tr>\n",
       "    <tr>\n",
       "      <th>10</th>\n",
       "      <td>Ylöjärvi</td>\n",
       "      <td>Tampere</td>\n",
       "      <td>6743</td>\n",
       "    </tr>\n",
       "    <tr>\n",
       "      <th>11</th>\n",
       "      <td>Turku</td>\n",
       "      <td>Kaarina</td>\n",
       "      <td>6199</td>\n",
       "    </tr>\n",
       "    <tr>\n",
       "      <th>12</th>\n",
       "      <td>Nokia</td>\n",
       "      <td>Tampere</td>\n",
       "      <td>5976</td>\n",
       "    </tr>\n",
       "    <tr>\n",
       "      <th>13</th>\n",
       "      <td>Raisio</td>\n",
       "      <td>Turku</td>\n",
       "      <td>5975</td>\n",
       "    </tr>\n",
       "    <tr>\n",
       "      <th>14</th>\n",
       "      <td>Kirkkonummi</td>\n",
       "      <td>Espoo</td>\n",
       "      <td>5883</td>\n",
       "    </tr>\n",
       "    <tr>\n",
       "      <th>15</th>\n",
       "      <td>Korsholm</td>\n",
       "      <td>Vaasa</td>\n",
       "      <td>5870</td>\n",
       "    </tr>\n",
       "    <tr>\n",
       "      <th>16</th>\n",
       "      <td>Lahti</td>\n",
       "      <td>Hollola</td>\n",
       "      <td>5807</td>\n",
       "    </tr>\n",
       "    <tr>\n",
       "      <th>17</th>\n",
       "      <td>Hollola</td>\n",
       "      <td>Lahti</td>\n",
       "      <td>5732</td>\n",
       "    </tr>\n",
       "    <tr>\n",
       "      <th>18</th>\n",
       "      <td>Siilinjärvi</td>\n",
       "      <td>Kuopio</td>\n",
       "      <td>5414</td>\n",
       "    </tr>\n",
       "    <tr>\n",
       "      <th>19</th>\n",
       "      <td>Pirkkala</td>\n",
       "      <td>Tampere</td>\n",
       "      <td>5354</td>\n",
       "    </tr>\n",
       "  </tbody>\n",
       "</table>\n",
       "</div>"
      ],
      "text/plain": [
       "         origin  destination   flow\n",
       "0         Espoo     Helsinki  52138\n",
       "1        Vantaa     Helsinki  43954\n",
       "2      Helsinki       Vantaa  32600\n",
       "3      Helsinki        Espoo  32252\n",
       "4         Espoo       Vantaa  10566\n",
       "5       Kaarina        Turku   9011\n",
       "6        Vantaa        Espoo   8771\n",
       "7          Oulu      Kempele   7758\n",
       "8     Kangasala      Tampere   7401\n",
       "9        Kuopio  Siilinjärvi   6822\n",
       "10     Ylöjärvi      Tampere   6743\n",
       "11        Turku      Kaarina   6199\n",
       "12        Nokia      Tampere   5976\n",
       "13       Raisio        Turku   5975\n",
       "14  Kirkkonummi        Espoo   5883\n",
       "15     Korsholm        Vaasa   5870\n",
       "16        Lahti      Hollola   5807\n",
       "17      Hollola        Lahti   5732\n",
       "18  Siilinjärvi       Kuopio   5414\n",
       "19     Pirkkala      Tampere   5354"
      ]
     },
     "execution_count": 26,
     "metadata": {},
     "output_type": "execute_result"
    }
   ],
   "source": [
    "df_od.head(20)"
   ]
  },
  {
   "cell_type": "code",
   "execution_count": null,
   "metadata": {},
   "outputs": [],
   "source": []
  }
 ],
 "metadata": {
  "kernelspec": {
   "display_name": "Python 3/anaconda",
   "language": "python",
   "name": "python3"
  },
  "language_info": {
   "codemirror_mode": {
    "name": "ipython",
    "version": 3
   },
   "file_extension": ".py",
   "mimetype": "text/x-python",
   "name": "python",
   "nbconvert_exporter": "python",
   "pygments_lexer": "ipython3",
   "version": "3.8.10"
  }
 },
 "nbformat": 4,
 "nbformat_minor": 4
}
