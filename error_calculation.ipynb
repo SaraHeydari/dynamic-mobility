{
 "cells": [
  {
   "cell_type": "markdown",
   "metadata": {},
   "source": [
    "# Error calculation"
   ]
  },
  {
   "cell_type": "code",
   "execution_count": null,
   "metadata": {},
   "outputs": [],
   "source": [
    "def absolute_error(book_of_original_values, book_of_predicted_values):\n",
    "    ### This function recives two dictionaries as input, a dictionary containing the ground truth data (book_of_original_values) and a dictionary conatining estimations\n",
    "    ### The function returns the prediction error for any key exists in both dictionaries\n",
    "    mutual_keys = set(book_of_original_values.keys()).intersection(set(book_of_predicted_values.keys()))\n",
    "    dif_book = {}\n",
    "    for tuple_key in mutual_keys:\n",
    "        dif_book[tuple_key] = abs(book_of_original_values[tuple_key]- book_of_predicted_values[tuple_key])\n",
    "    return(dif_book)"
   ]
  },
  {
   "cell_type": "code",
   "execution_count": null,
   "metadata": {},
   "outputs": [],
   "source": [
    "def countrywide_weekly_error_sum(distance_book):\n",
    "    ### This function recieves the dictionary containing the estimation error for each datapoint and calculates the total error for each week\n",
    "    separated_by_week_number = {}\n",
    "    for tuple_key in distance_book:\n",
    "        origin = tuple_key[0]\n",
    "        destination = tuple_key[1]\n",
    "        if origin != destination:\n",
    "            dif = distance_book[tuple_key]\n",
    "            hour, day, month, year = int(tuple_key[2]), int(tuple_key[3]), int(tuple_key[4]), int(tuple_key[5])\n",
    "            week_num = date_to_week_number(day, month, year)\n",
    "            if week_num not in separated_by_week_number:\n",
    "                separated_by_week_number[week_num] = []\n",
    "            separated_by_week_number[week_num].append(dif)\n",
    "    weekly_error_sum = {wn:sum(separated_by_week_number[wn]) for wn in separated_by_week_number.keys()}\n",
    "    return(weekly_error_sum)"
   ]
  },
  {
   "cell_type": "code",
   "execution_count": null,
   "metadata": {},
   "outputs": [],
   "source": [
    "# comparing estimation with ground truth"
   ]
  },
  {
   "cell_type": "code",
   "execution_count": null,
   "metadata": {},
   "outputs": [],
   "source": [
    "# to do: define ground_truth and estimation books\n",
    "ae = absolute_error(ground_truth, estimation)\n",
    "weekly_error_sum = countrywide_weekly_error_sum(ae)\n",
    "weekly_sum_of_ground_truth = countrywide_weekly_error_sum(ground_truth)\n",
    "normalized_weekly_error = {k:weekly_error_sum[k]/weekly_sum_of_ground_truth[k] for k in weekly_error_sum.keys()}"
   ]
  }
 ],
 "metadata": {
  "kernelspec": {
   "display_name": "Python 3/anaconda",
   "language": "python",
   "name": "python3"
  },
  "language_info": {
   "codemirror_mode": {
    "name": "ipython",
    "version": 3
   },
   "file_extension": ".py",
   "mimetype": "text/x-python",
   "name": "python",
   "nbconvert_exporter": "python",
   "pygments_lexer": "ipython3",
   "version": "3.8.10"
  }
 },
 "nbformat": 4,
 "nbformat_minor": 4
}
